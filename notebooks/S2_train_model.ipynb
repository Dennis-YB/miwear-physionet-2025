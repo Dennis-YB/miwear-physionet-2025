{
 "cells": [
  {
   "cell_type": "code",
   "execution_count": 3,
   "metadata": {},
   "outputs": [],
   "source": [
    "%load_ext autoreload\n",
    "%autoreload 2\n",
    "import sys\n",
    "sys.path.append(\"/home/chenpindong/My_work/miwear-physionet-2025\")"
   ]
  },
  {
   "cell_type": "code",
   "execution_count": 9,
   "metadata": {},
   "outputs": [],
   "source": [
    "from helper_code import *\n",
    "from team_code import extract_features, train_model\n",
    "import os\n",
    "import pandas as pd\n",
    "from sklearn.model_selection import StratifiedKFold\n",
    "from sklearn.ensemble import RandomForestClassifier"
   ]
  },
  {
   "cell_type": "code",
   "execution_count": 5,
   "metadata": {},
   "outputs": [],
   "source": [
    "all_recodes = []\n",
    "base_path = \"/home/work/hdd3/yubo10/code15/code15_output/\"\n",
    "for exam_dir in os.listdir(base_path):\n",
    "    records = find_records(os.path.join(base_path, exam_dir))\n",
    "    all_recodes.extend([os.path.join(base_path, exam_dir, record) for record in records])"
   ]
  },
  {
   "cell_type": "code",
   "execution_count": null,
   "metadata": {},
   "outputs": [],
   "source": [
    "code15_info = pd.read_csv(\"../dataset/code15_info.csv\")\n",
    "ptb_info = pd.read_csv(\"../dataset/ptb-xl_info.csv\")\n",
    "sami_info = pd.read_csv(\"../dataset/sami_info_info.csv\")"
   ]
  },
  {
   "cell_type": "code",
   "execution_count": 29,
   "metadata": {},
   "outputs": [],
   "source": [
    "all_recodes = code15_info['path'].values.tolist() + ptb_info['path'].values.tolist() + sami_info['path'].values.tolist()"
   ]
  },
  {
   "cell_type": "code",
   "execution_count": 32,
   "metadata": {},
   "outputs": [],
   "source": [
    "num_records = len(all_recodes)\n",
    "features = np.zeros((num_records, 6), dtype=np.float64)\n",
    "labels = np.zeros(num_records, dtype=bool)\n",
    "for i in range(num_records):\n",
    "    record = all_recodes[i]\n",
    "    features[i] = extract_features(record)\n",
    "    labels[i] = load_label(record)"
   ]
  },
  {
   "cell_type": "code",
   "execution_count": 41,
   "metadata": {},
   "outputs": [
    {
     "data": {
      "text/plain": [
       "360107"
      ]
     },
     "execution_count": 41,
     "metadata": {},
     "output_type": "execute_result"
    }
   ],
   "source": [
    "num_records"
   ]
  },
  {
   "cell_type": "code",
   "execution_count": 33,
   "metadata": {},
   "outputs": [],
   "source": [
    "# Define the parameters for the random forest classifier and regressor.\n",
    "n_estimators = 12  # Number of trees in the forest.\n",
    "max_leaf_nodes = 34  # Maximum number of leaf nodes in each tree.\n",
    "random_state = 56  # Random state; set for reproducibility."
   ]
  },
  {
   "cell_type": "code",
   "execution_count": 38,
   "metadata": {},
   "outputs": [
    {
     "name": "stdout",
     "output_type": "stream",
     "text": [
      "challenge_score : 0.11958762886597939, auroc: 0.7271443428991005 accuracy: 0.9797978395490267, f_measure 0.0\n",
      "challenge_score : 0.1346153846153846, auroc: 0.7351722526226716 accuracy: 0.9797839549026687, f_measure 0.0\n",
      "challenge_score : 0.12164948453608247, auroc: 0.7197734265102212 accuracy: 0.9797975590452784, f_measure 0.0\n",
      "challenge_score : 0.10927835051546392, auroc: 0.7333529927333752 accuracy: 0.9797975590452784, f_measure 0.0\n",
      "challenge_score : 0.09828178694158075, auroc: 0.7278125773994527 accuracy: 0.9797975590452784, f_measure 0.0\n"
     ]
    }
   ],
   "source": [
    "kfold = StratifiedKFold(n_splits=5, shuffle=True, random_state=42)\n",
    "cscore = []\n",
    "aurocs = []\n",
    "for train_idx, test_idx in kfold.split(features, labels):\n",
    "    # Fit the model.\n",
    "    train_x = features[train_idx]\n",
    "    test_x = features[test_idx]\n",
    "\n",
    "    train_y = labels[train_idx]\n",
    "    test_y = labels[test_idx]\n",
    "\n",
    "    model = RandomForestClassifier(\n",
    "    n_estimators=n_estimators, max_leaf_nodes=max_leaf_nodes, random_state=random_state).fit(train_x, train_y)\n",
    "\n",
    "    binary_output = model.predict(test_x)\n",
    "    probability_output = model.predict_proba(test_x)[:,1]\n",
    "\n",
    "    challenge_score = compute_challenge_score(test_y, probability_output)\n",
    "    auroc, auprc = compute_auc(test_y, probability_output)\n",
    "    accuracy = compute_accuracy(test_y, binary_output)\n",
    "    f_measure = compute_f_measure(test_y, binary_output)\n",
    "\n",
    "    print(f\"challenge_score : {challenge_score}, auroc: {auroc} accuracy: {accuracy}, f_measure {f_measure}\")\n",
    "    cscore.append(challenge_score)\n",
    "    aurocs.append(auroc)"
   ]
  },
  {
   "cell_type": "code",
   "execution_count": 40,
   "metadata": {},
   "outputs": [
    {
     "name": "stdout",
     "output_type": "stream",
     "text": [
      "0.11668252709489824\n",
      "0.09828178694158075\n",
      "0.7286511184329643\n"
     ]
    }
   ],
   "source": [
    "print(np.mean(cscore))\n",
    "print(np.mean(challenge_score))\n",
    "print(np.mean(aurocs))"
   ]
  },
  {
   "cell_type": "code",
   "execution_count": null,
   "metadata": {},
   "outputs": [
    {
     "data": {
      "text/plain": [
       "(360107, 6)"
      ]
     },
     "execution_count": 35,
     "metadata": {},
     "output_type": "execute_result"
    }
   ],
   "source": [
    "challenge_score : 0.13058419243986255, auroc: 0.7457642384851573 accuracy: 0.9797978395490267, f_measure 0.0\n",
    "challenge_score : 0.12225274725274725, auroc: 0.7531401707013906 accuracy: 0.9797839549026687, f_measure 0.0\n",
    "challenge_score : 0.13058419243986255, auroc: 0.7527740109841362 accuracy: 0.9797975590452784, f_measure 0.0\n",
    "challenge_score : 0.13195876288659794, auroc: 0.7537173115602436 accuracy: 0.9797975590452784, f_measure 0.0\n",
    "challenge_score : 0.0027491408934707906, auroc: 0.46614339158301094 accuracy: 0.9797975590452784, f_measure 0.0"
   ]
  },
  {
   "cell_type": "code",
   "execution_count": 36,
   "metadata": {},
   "outputs": [
    {
     "data": {
      "text/plain": [
       "np.float64(0.1036258071825082)"
      ]
     },
     "execution_count": 36,
     "metadata": {},
     "output_type": "execute_result"
    }
   ],
   "source": [
    "np.mean(cscore)"
   ]
  },
  {
   "cell_type": "code",
   "execution_count": null,
   "metadata": {},
   "outputs": [
    {
     "data": {
      "text/plain": [
       "np.float64(0.6943078246627877)"
      ]
     },
     "execution_count": 37,
     "metadata": {},
     "output_type": "execute_result"
    }
   ],
   "source": [
    "np.mean(cscore)"
   ]
  },
  {
   "cell_type": "code",
   "execution_count": 14,
   "metadata": {},
   "outputs": [
    {
     "data": {
      "text/plain": [
       "np.float64(0.014900112130910767)"
      ]
     },
     "execution_count": 14,
     "metadata": {},
     "output_type": "execute_result"
    }
   ],
   "source": [
    "\n",
    "\n",
    "probability_output\n"
   ]
  },
  {
   "cell_type": "code",
   "execution_count": null,
   "metadata": {},
   "outputs": [],
   "source": []
  },
  {
   "cell_type": "code",
   "execution_count": null,
   "metadata": {},
   "outputs": [],
   "source": []
  }
 ],
 "metadata": {
  "kernelspec": {
   "display_name": "physio",
   "language": "python",
   "name": "python3"
  },
  "language_info": {
   "codemirror_mode": {
    "name": "ipython",
    "version": 3
   },
   "file_extension": ".py",
   "mimetype": "text/x-python",
   "name": "python",
   "nbconvert_exporter": "python",
   "pygments_lexer": "ipython3",
   "version": "3.9.21"
  }
 },
 "nbformat": 4,
 "nbformat_minor": 2
}
