{
 "cells": [
  {
   "cell_type": "code",
   "execution_count": 3,
   "metadata": {},
   "outputs": [],
   "source": [
    "%load_ext autoreload\n",
    "%autoreload 2\n",
    "import sys\n",
    "sys.path.append(\"/home/chenpindong/My_work/miwear-physionet-2025\")"
   ]
  },
  {
   "cell_type": "code",
   "execution_count": 9,
   "metadata": {},
   "outputs": [],
   "source": [
    "from helper_code import *\n",
    "from team_code import extract_features, train_model\n",
    "import os\n",
    "import pandas as pd\n",
    "from sklearn.model_selection import StratifiedKFold\n",
    "from sklearn.ensemble import RandomForestClassifier"
   ]
  },
  {
   "cell_type": "code",
   "execution_count": 5,
   "metadata": {},
   "outputs": [],
   "source": [
    "all_recodes = []\n",
    "base_path = \"/home/work/hdd3/yubo10/code15/code15_output/\"\n",
    "for exam_dir in os.listdir(base_path):\n",
    "    records = find_records(os.path.join(base_path, exam_dir))\n",
    "    all_recodes.extend([os.path.join(base_path, exam_dir, record) for record in records])"
   ]
  },
  {
   "cell_type": "code",
   "execution_count": null,
   "metadata": {},
   "outputs": [],
   "source": [
    "code15_info = pd.read_csv(\"../dataset/code15_info.csv\")\n",
    "ptb_info = pd.read_csv(\"../dataset/ptb-xl_info.csv\")\n",
    "sami_info = pd.read_csv(\"../dataset/sami_info_info.csv\")"
   ]
  },
  {
   "cell_type": "code",
   "execution_count": 29,
   "metadata": {},
   "outputs": [],
   "source": [
    "all_recodes = code15_info['path'].values.tolist() + ptb_info['path'].values.tolist() + sami_info['path'].values.tolist()"
   ]
  },
  {
   "cell_type": "code",
   "execution_count": 32,
   "metadata": {},
   "outputs": [],
   "source": [
    "num_records = len(all_recodes)\n",
    "features = np.zeros((num_records, 6), dtype=np.float64)\n",
    "labels = np.zeros(num_records, dtype=bool)\n",
    "for i in range(num_records):\n",
    "    record = all_recodes[i]\n",
    "    features[i] = extract_features(record)\n",
    "    labels[i] = load_label(record)"
   ]
  },
  {
   "cell_type": "code",
   "execution_count": 33,
   "metadata": {},
   "outputs": [],
   "source": [
    "# Define the parameters for the random forest classifier and regressor.\n",
    "n_estimators = 12  # Number of trees in the forest.\n",
    "max_leaf_nodes = 34  # Maximum number of leaf nodes in each tree.\n",
    "random_state = 56  # Random state; set for reproducibility."
   ]
  },
  {
   "cell_type": "code",
   "execution_count": 34,
   "metadata": {},
   "outputs": [
    {
     "name": "stdout",
     "output_type": "stream",
     "text": [
      "challenge_score : 0.13058419243986255, auroc: 0.7457642384851573 accuracy: 0.9797978395490267, f_measure 0.0\n",
      "challenge_score : 0.12225274725274725, auroc: 0.7531401707013906 accuracy: 0.9797839549026687, f_measure 0.0\n",
      "challenge_score : 0.13058419243986255, auroc: 0.7527740109841362 accuracy: 0.9797975590452784, f_measure 0.0\n",
      "challenge_score : 0.13195876288659794, auroc: 0.7537173115602436 accuracy: 0.9797975590452784, f_measure 0.0\n",
      "challenge_score : 0.0027491408934707906, auroc: 0.46614339158301094 accuracy: 0.9797975590452784, f_measure 0.0\n"
     ]
    }
   ],
   "source": [
    "kfold = StratifiedKFold(n_splits=5)\n",
    "cscore = []\n",
    "aurocs = []\n",
    "for train_idx, test_idx in kfold.split(features, labels):\n",
    "    # Fit the model.\n",
    "    train_x = features[train_idx]\n",
    "    test_x = features[test_idx]\n",
    "\n",
    "    train_y = labels[train_idx]\n",
    "    test_y = labels[test_idx]\n",
    "\n",
    "    model = RandomForestClassifier(\n",
    "    n_estimators=n_estimators, max_leaf_nodes=max_leaf_nodes, random_state=random_state).fit(train_x, train_y)\n",
    "\n",
    "    binary_output = model.predict(test_x)\n",
    "    probability_output = model.predict_proba(test_x)[:,1]\n",
    "\n",
    "    challenge_score = compute_challenge_score(test_y, probability_output)\n",
    "    auroc, auprc = compute_auc(test_y, probability_output)\n",
    "    accuracy = compute_accuracy(test_y, binary_output)\n",
    "    f_measure = compute_f_measure(test_y, binary_output)\n",
    "\n",
    "    print(f\"challenge_score : {challenge_score}, auroc: {auroc} accuracy: {accuracy}, f_measure {f_measure}\")\n",
    "    cscore.append(challenge_score)\n",
    "    aurocs.append(auroc)"
   ]
  },
  {
   "cell_type": "code",
   "execution_count": 35,
   "metadata": {},
   "outputs": [
    {
     "data": {
      "text/plain": [
       "(360107, 6)"
      ]
     },
     "execution_count": 35,
     "metadata": {},
     "output_type": "execute_result"
    }
   ],
   "source": [
    "features.shape"
   ]
  },
  {
   "cell_type": "code",
   "execution_count": 36,
   "metadata": {},
   "outputs": [
    {
     "data": {
      "text/plain": [
       "np.float64(0.1036258071825082)"
      ]
     },
     "execution_count": 36,
     "metadata": {},
     "output_type": "execute_result"
    }
   ],
   "source": [
    "np.mean(cscore)"
   ]
  },
  {
   "cell_type": "code",
   "execution_count": 37,
   "metadata": {},
   "outputs": [
    {
     "data": {
      "text/plain": [
       "np.float64(0.6943078246627877)"
      ]
     },
     "execution_count": 37,
     "metadata": {},
     "output_type": "execute_result"
    }
   ],
   "source": [
    "np.mean(aurocs)"
   ]
  },
  {
   "cell_type": "code",
   "execution_count": 14,
   "metadata": {},
   "outputs": [
    {
     "data": {
      "text/plain": [
       "np.float64(0.014900112130910767)"
      ]
     },
     "execution_count": 14,
     "metadata": {},
     "output_type": "execute_result"
    }
   ],
   "source": [
    "\n",
    "\n",
    "probability_output\n"
   ]
  },
  {
   "cell_type": "code",
   "execution_count": null,
   "metadata": {},
   "outputs": [],
   "source": [
    "def evaluate_model(data_folder, output_folder):\n",
    "    # Find the records.\n",
    "    records = find_records(data_folder)\n",
    "    num_records = len(records)\n",
    "\n",
    "    if num_records == 0:\n",
    "        raise FileNotFoundError('No records found.')\n",
    "\n",
    "    labels = np.zeros(num_records)\n",
    "    binary_outputs = np.zeros(num_records)\n",
    "    probability_outputs = np.zeros(num_records)\n",
    "\n",
    "    # Load the labels and model outputs.\n",
    "    for i, record in enumerate(records):\n",
    "        label_filename = os.path.join(data_folder, record)\n",
    "        label = load_label(label_filename)\n",
    "\n",
    "        output_filename = os.path.join(output_folder, record + '.txt')\n",
    "        output = load_text(output_filename)\n",
    "        binary_output = get_label(output, allow_missing=True)\n",
    "        probability_output = get_probability(output, allow_missing=True)\n",
    "\n",
    "        # Missing model outputs are interpreted as zero for the binary and probability outputs.\n",
    "        labels[i] = label\n",
    "        if not is_nan(binary_output):\n",
    "            binary_outputs[i] = binary_output\n",
    "        else:\n",
    "            binary_outputs[i] = 0\n",
    "        if not is_nan(probability_output):\n",
    "            probability_outputs[i] = probability_output\n",
    "        else:\n",
    "            probability_outputs[i] = 0\n",
    "\n",
    "    # Evaluate the model outputs.\n",
    "    challenge_score = compute_challenge_score(labels, probability_outputs)\n",
    "    auroc, auprc = compute_auc(labels, probability_outputs)\n",
    "    accuracy = compute_accuracy(labels, binary_outputs)\n",
    "    f_measure = compute_f_measure(labels, binary_outputs)\n",
    "\n",
    "    return challenge_score, auroc, auprc, accuracy, f_measure"
   ]
  },
  {
   "cell_type": "code",
   "execution_count": null,
   "metadata": {},
   "outputs": [],
   "source": []
  },
  {
   "cell_type": "code",
   "execution_count": null,
   "metadata": {},
   "outputs": [],
   "source": []
  }
 ],
 "metadata": {
  "kernelspec": {
   "display_name": "physio",
   "language": "python",
   "name": "python3"
  },
  "language_info": {
   "codemirror_mode": {
    "name": "ipython",
    "version": 3
   },
   "file_extension": ".py",
   "mimetype": "text/x-python",
   "name": "python",
   "nbconvert_exporter": "python",
   "pygments_lexer": "ipython3",
   "version": "3.9.21"
  }
 },
 "nbformat": 4,
 "nbformat_minor": 2
}
