{
 "cells": [
  {
   "cell_type": "code",
   "execution_count": 2,
   "metadata": {},
   "outputs": [],
   "source": [
    "%load_ext autoreload\n",
    "%autoreload 2"
   ]
  },
  {
   "cell_type": "code",
   "execution_count": 3,
   "metadata": {},
   "outputs": [],
   "source": [
    "import sys\n",
    "sys.path.append(\"/home/chenpindong/My_work/miwear-physionet-2025\")"
   ]
  },
  {
   "cell_type": "code",
   "execution_count": 4,
   "metadata": {},
   "outputs": [],
   "source": [
    "from helper_code import find_records, load_label, load_signals, get_header_file,load_header, get_age, get_label, get_sex\n",
    "from team_code import extract_features\n",
    "import os\n",
    "import pandas as pd"
   ]
  },
  {
   "cell_type": "code",
   "execution_count": 5,
   "metadata": {},
   "outputs": [],
   "source": [
    "records = find_records(\"/home/work/hdd3/yubo10/code15/code15_output/exams_part0\")"
   ]
  },
  {
   "cell_type": "code",
   "execution_count": 6,
   "metadata": {},
   "outputs": [
    {
     "data": {
      "text/plain": [
       "array([40.        ,  1.        ,  0.        ,  0.        ,  0.16700745,\n",
       "        0.6851255 ], dtype=float32)"
      ]
     },
     "execution_count": 6,
     "metadata": {},
     "output_type": "execute_result"
    }
   ],
   "source": [
    "extract_features(\"/home/work/hdd3/yubo10/code15/code15_output/exams_part0/\"+records[0])"
   ]
  },
  {
   "cell_type": "code",
   "execution_count": null,
   "metadata": {},
   "outputs": [],
   "source": [
    "code15_info = []\n",
    "base_path = \"/home/work/hdd3/yubo10/code15/code15_output/\"\n",
    "for exam_dir in os.listdir(base_path):\n",
    "    records = find_records(os.path.join(base_path, exam_dir))\n",
    "    for i in range(len(records)):\n",
    "        record_path = os.path.join(base_path, exam_dir, records[i])\n",
    "        header = load_header(record_path)\n",
    "        signal, field = load_signals(record_path)\n",
    "        age = get_age(header)\n",
    "        sex = get_sex(header)\n",
    "        label = get_label(header)\n",
    "        length, dim = signal.shape\n",
    "        fs = field['fs']\n",
    "        code15_info.append({\n",
    "            \"record\": records[i],\n",
    "            \"age\":age, 'sex': sex, 'label': label, 'fs': fs, 'length': length, 'dim': dim, 'path': record_path\n",
    "        })\n",
    "code15_info = pd.DataFrame(code15_info)\n",
    "code15_info.to_csv(\"../dataset/code15_info.csv\")\n"
   ]
  },
  {
   "cell_type": "code",
   "execution_count": 11,
   "metadata": {},
   "outputs": [],
   "source": [
    "ptb_info = []\n",
    "base_path = \"/home/work/hdd3/yubo10/ptb-xl/ptb-xl_output\"\n",
    "for exam_dir in os.listdir(base_path):\n",
    "    records = find_records(os.path.join(base_path, exam_dir))\n",
    "    for i in range(len(records)):\n",
    "        record_path = os.path.join(base_path, exam_dir, records[i])\n",
    "        header = load_header(record_path)\n",
    "        signal, field = load_signals(record_path)\n",
    "        age = get_age(header)\n",
    "        sex = get_sex(header)\n",
    "        label = get_label(header)\n",
    "        length, dim = signal.shape\n",
    "        fs = field['fs']\n",
    "        ptb_info.append({\n",
    "            \"record\": records[i],\n",
    "            \"age\":age, 'sex': sex, 'label': label, 'fs': fs, 'length': length, 'dim': dim, 'path': record_path\n",
    "        })\n",
    "ptb_info = pd.DataFrame(ptb_info)\n",
    "ptb_info.to_csv(\"../dataset/ptb-xl_info.csv\")"
   ]
  },
  {
   "cell_type": "code",
   "execution_count": 12,
   "metadata": {},
   "outputs": [],
   "source": [
    "sami_info = []\n",
    "base_path = \"/home/work/hdd3/yubo10/sami_trop/\"\n",
    "for exam_dir in os.listdir(base_path):\n",
    "    records = find_records(os.path.join(base_path, exam_dir))\n",
    "    for i in range(len(records)):\n",
    "        record_path = os.path.join(base_path, exam_dir, records[i])\n",
    "        header = load_header(record_path)\n",
    "        signal, field = load_signals(record_path)\n",
    "        age = get_age(header)\n",
    "        sex = get_sex(header)\n",
    "        label = get_label(header)\n",
    "        length, dim = signal.shape\n",
    "        fs = field['fs']\n",
    "        sami_info.append({\n",
    "            \"record\": records[i],\n",
    "            \"age\":age, 'sex': sex, 'label': label, 'fs': fs, 'length': length, 'dim': dim, 'path': record_path\n",
    "        })\n",
    "sami_info = pd.DataFrame(sami_info)\n",
    "sami_info.to_csv(\"../dataset/sami_info_info.csv\")"
   ]
  }
 ],
 "metadata": {
  "kernelspec": {
   "display_name": "physio",
   "language": "python",
   "name": "python3"
  },
  "language_info": {
   "codemirror_mode": {
    "name": "ipython",
    "version": 3
   },
   "file_extension": ".py",
   "mimetype": "text/x-python",
   "name": "python",
   "nbconvert_exporter": "python",
   "pygments_lexer": "ipython3",
   "version": "3.9.21"
  }
 },
 "nbformat": 4,
 "nbformat_minor": 2
}
