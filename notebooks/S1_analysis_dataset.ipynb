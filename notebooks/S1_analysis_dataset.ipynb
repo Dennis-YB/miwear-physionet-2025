{
 "cells": [
  {
   "cell_type": "code",
   "execution_count": 13,
   "metadata": {},
   "outputs": [
    {
     "name": "stdout",
     "output_type": "stream",
     "text": [
      "The autoreload extension is already loaded. To reload it, use:\n",
      "  %reload_ext autoreload\n"
     ]
    }
   ],
   "source": [
    "%load_ext autoreload\n",
    "%autoreload 2"
   ]
  },
  {
   "cell_type": "code",
   "execution_count": 14,
   "metadata": {},
   "outputs": [],
   "source": [
    "import sys\n",
    "sys.path.append(\"/home/chenpindong/My_work/miwear-physionet-2025\")"
   ]
  },
  {
   "cell_type": "code",
   "execution_count": 15,
   "metadata": {},
   "outputs": [],
   "source": [
    "from helper_code import find_records, load_label, load_signals, get_header_file,load_header, get_age, get_label, get_sex\n",
    "from team_code import extract_features\n",
    "import os\n",
    "import pandas as pd"
   ]
  },
  {
   "cell_type": "code",
   "execution_count": null,
   "metadata": {},
   "outputs": [],
   "source": [
    "code15_info = []\n",
    "base_path = \"/home/work/hdd3/yubo10/code15/code15_output/\"\n",
    "for exam_dir in os.listdir(base_path):\n",
    "    records = find_records(os.path.join(base_path, exam_dir))\n",
    "    for i in range(len(records)):\n",
    "        record_path = os.path.join(base_path, exam_dir, records[i])\n",
    "        header = load_header(record_path)\n",
    "        signal, field = load_signals(record_path)\n",
    "        age = get_age(header)\n",
    "        sex = get_sex(header)\n",
    "        label = get_label(header)\n",
    "        length, dim = signal.shape\n",
    "        fs = field['fs']\n",
    "        code15_info.append({\n",
    "            \"record\": records[i],\n",
    "            \"age\":age, 'sex': sex, 'label': label, 'fs': fs, 'length': length, 'dim': dim, 'path': record_path\n",
    "        })\n",
    "code15_info = pd.DataFrame(code15_info)\n",
    "code15_info.to_csv(\"../dataset/code15_info.csv\")"
   ]
  },
  {
   "cell_type": "code",
   "execution_count": 20,
   "metadata": {},
   "outputs": [
    {
     "data": {
      "text/plain": [
       "(337493, 8)"
      ]
     },
     "execution_count": 20,
     "metadata": {},
     "output_type": "execute_result"
    }
   ],
   "source": [
    "code15_info.shape"
   ]
  },
  {
   "cell_type": "code",
   "execution_count": null,
   "metadata": {},
   "outputs": [],
   "source": [
    "ptb_info"
   ]
  },
  {
   "cell_type": "code",
   "execution_count": 32,
   "metadata": {},
   "outputs": [
    {
     "data": {
      "text/html": [
       "<div>\n",
       "<style scoped>\n",
       "    .dataframe tbody tr th:only-of-type {\n",
       "        vertical-align: middle;\n",
       "    }\n",
       "\n",
       "    .dataframe tbody tr th {\n",
       "        vertical-align: top;\n",
       "    }\n",
       "\n",
       "    .dataframe thead th {\n",
       "        text-align: right;\n",
       "    }\n",
       "</style>\n",
       "<table border=\"1\" class=\"dataframe\">\n",
       "  <thead>\n",
       "    <tr style=\"text-align: right;\">\n",
       "      <th></th>\n",
       "      <th>record</th>\n",
       "      <th>age</th>\n",
       "      <th>sex</th>\n",
       "      <th>fs</th>\n",
       "      <th>length</th>\n",
       "      <th>dim</th>\n",
       "      <th>path</th>\n",
       "    </tr>\n",
       "    <tr>\n",
       "      <th>label</th>\n",
       "      <th></th>\n",
       "      <th></th>\n",
       "      <th></th>\n",
       "      <th></th>\n",
       "      <th></th>\n",
       "      <th></th>\n",
       "      <th></th>\n",
       "    </tr>\n",
       "  </thead>\n",
       "  <tbody>\n",
       "    <tr>\n",
       "      <th>0</th>\n",
       "      <td>331032</td>\n",
       "      <td>331032</td>\n",
       "      <td>331032</td>\n",
       "      <td>331032</td>\n",
       "      <td>331032</td>\n",
       "      <td>331032</td>\n",
       "      <td>331032</td>\n",
       "    </tr>\n",
       "    <tr>\n",
       "      <th>1</th>\n",
       "      <td>6461</td>\n",
       "      <td>6461</td>\n",
       "      <td>6461</td>\n",
       "      <td>6461</td>\n",
       "      <td>6461</td>\n",
       "      <td>6461</td>\n",
       "      <td>6461</td>\n",
       "    </tr>\n",
       "  </tbody>\n",
       "</table>\n",
       "</div>"
      ],
      "text/plain": [
       "       record     age     sex      fs  length     dim    path\n",
       "label                                                        \n",
       "0      331032  331032  331032  331032  331032  331032  331032\n",
       "1        6461    6461    6461    6461    6461    6461    6461"
      ]
     },
     "execution_count": 32,
     "metadata": {},
     "output_type": "execute_result"
    }
   ],
   "source": [
    "code15_info.groupby('label').count()"
   ]
  },
  {
   "cell_type": "code",
   "execution_count": 19,
   "metadata": {},
   "outputs": [
    {
     "data": {
      "text/plain": [
       "<Axes: ylabel='Frequency'>"
      ]
     },
     "execution_count": 19,
     "metadata": {},
     "output_type": "execute_result"
    },
    {
     "data": {
      "image/png": "[encoded data removed]",
      "text/plain": [
       "<Figure size 640x480 with 1 Axes>"
      ]
     },
     "metadata": {},
     "output_type": "display_data"
    }
   ],
   "source": [
    "code15_info.length.plot(kind = 'hist')"
   ]
  },
  {
   "cell_type": "code",
   "execution_count": 11,
   "metadata": {},
   "outputs": [],
   "source": [
    "ptb_info = []\n",
    "base_path = \"/home/work/hdd3/yubo10/ptb-xl/ptb-xl_output\"\n",
    "for exam_dir in os.listdir(base_path):\n",
    "    records = find_records(os.path.join(base_path, exam_dir))\n",
    "    for i in range(len(records)):\n",
    "        record_path = os.path.join(base_path, exam_dir, records[i])\n",
    "        header = load_header(record_path)\n",
    "        signal, field = load_signals(record_path)\n",
    "        age = get_age(header)\n",
    "        sex = get_sex(header)\n",
    "        label = get_label(header)\n",
    "        length, dim = signal.shape\n",
    "        fs = field['fs']\n",
    "        ptb_info.append({\n",
    "            \"record\": records[i],\n",
    "            \"age\":age, 'sex': sex, 'label': label, 'fs': fs, 'length': length, 'dim': dim, 'path': record_path\n",
    "        })\n",
    "ptb_info = pd.DataFrame(ptb_info)\n",
    "ptb_info.to_csv(\"../dataset/ptb-xl_info.csv\")"
   ]
  },
  {
   "cell_type": "code",
   "execution_count": 21,
   "metadata": {},
   "outputs": [
    {
     "data": {
      "text/plain": [
       "(21799, 8)"
      ]
     },
     "execution_count": 21,
     "metadata": {},
     "output_type": "execute_result"
    }
   ],
   "source": [
    "ptb_info.shape"
   ]
  },
  {
   "cell_type": "code",
   "execution_count": 27,
   "metadata": {},
   "outputs": [
    {
     "data": {
      "text/plain": [
       "np.float64(5000.0)"
      ]
     },
     "execution_count": 27,
     "metadata": {},
     "output_type": "execute_result"
    }
   ],
   "source": [
    "ptb_info.length.mean()"
   ]
  },
  {
   "cell_type": "code",
   "execution_count": 31,
   "metadata": {},
   "outputs": [
    {
     "data": {
      "text/html": [
       "<div>\n",
       "<style scoped>\n",
       "    .dataframe tbody tr th:only-of-type {\n",
       "        vertical-align: middle;\n",
       "    }\n",
       "\n",
       "    .dataframe tbody tr th {\n",
       "        vertical-align: top;\n",
       "    }\n",
       "\n",
       "    .dataframe thead th {\n",
       "        text-align: right;\n",
       "    }\n",
       "</style>\n",
       "<table border=\"1\" class=\"dataframe\">\n",
       "  <thead>\n",
       "    <tr style=\"text-align: right;\">\n",
       "      <th></th>\n",
       "      <th>record</th>\n",
       "      <th>age</th>\n",
       "      <th>sex</th>\n",
       "      <th>fs</th>\n",
       "      <th>length</th>\n",
       "      <th>dim</th>\n",
       "      <th>path</th>\n",
       "    </tr>\n",
       "    <tr>\n",
       "      <th>label</th>\n",
       "      <th></th>\n",
       "      <th></th>\n",
       "      <th></th>\n",
       "      <th></th>\n",
       "      <th></th>\n",
       "      <th></th>\n",
       "      <th></th>\n",
       "    </tr>\n",
       "  </thead>\n",
       "  <tbody>\n",
       "    <tr>\n",
       "      <th>0</th>\n",
       "      <td>21799</td>\n",
       "      <td>21799</td>\n",
       "      <td>21799</td>\n",
       "      <td>21799</td>\n",
       "      <td>21799</td>\n",
       "      <td>21799</td>\n",
       "      <td>21799</td>\n",
       "    </tr>\n",
       "  </tbody>\n",
       "</table>\n",
       "</div>"
      ],
      "text/plain": [
       "       record    age    sex     fs  length    dim   path\n",
       "label                                                   \n",
       "0       21799  21799  21799  21799   21799  21799  21799"
      ]
     },
     "execution_count": 31,
     "metadata": {},
     "output_type": "execute_result"
    }
   ],
   "source": [
    "ptb_info.groupby('label').count()\n"
   ]
  },
  {
   "cell_type": "code",
   "execution_count": null,
   "metadata": {},
   "outputs": [],
   "source": [
    "sami_info = []\n",
    "base_path = \"/home/work/hdd3/yubo10/sami_trop/\"\n",
    "for exam_dir in os.listdir(base_path):\n",
    "    records = find_records(os.path.join(base_path, exam_dir))\n",
    "    for i in range(len(records)):\n",
    "        record_path = os.path.join(base_path, exam_dir, records[i])\n",
    "        header = load_header(record_path)\n",
    "        signal, field = load_signals(record_path)\n",
    "        age = get_age(header)\n",
    "        sex = get_sex(header)\n",
    "        label = get_label(header)\n",
    "        length, dim = signal.shape\n",
    "        fs = field['fs']\n",
    "        sami_info.append({\n",
    "            \"record\": records[i],\n",
    "            \"age\":age, 'sex': sex, 'label': label, 'fs': fs, 'length': length, 'dim': dim, 'path': record_path\n",
    "        })\n",
    "sami_info = pd.DataFrame(sami_info)\n",
    "sami_info.to_csv(\"../dataset/sami_info_info.csv\")"
   ]
  },
  {
   "cell_type": "code",
   "execution_count": 28,
   "metadata": {},
   "outputs": [
    {
     "data": {
      "text/plain": [
       "(815, 8)"
      ]
     },
     "execution_count": 28,
     "metadata": {},
     "output_type": "execute_result"
    }
   ],
   "source": [
    "sami_info.shape"
   ]
  },
  {
   "cell_type": "code",
   "execution_count": 30,
   "metadata": {},
   "outputs": [
    {
     "data": {
      "text/html": [
       "<div>\n",
       "<style scoped>\n",
       "    .dataframe tbody tr th:only-of-type {\n",
       "        vertical-align: middle;\n",
       "    }\n",
       "\n",
       "    .dataframe tbody tr th {\n",
       "        vertical-align: top;\n",
       "    }\n",
       "\n",
       "    .dataframe thead th {\n",
       "        text-align: right;\n",
       "    }\n",
       "</style>\n",
       "<table border=\"1\" class=\"dataframe\">\n",
       "  <thead>\n",
       "    <tr style=\"text-align: right;\">\n",
       "      <th></th>\n",
       "      <th>record</th>\n",
       "      <th>age</th>\n",
       "      <th>sex</th>\n",
       "      <th>fs</th>\n",
       "      <th>length</th>\n",
       "      <th>dim</th>\n",
       "      <th>path</th>\n",
       "    </tr>\n",
       "    <tr>\n",
       "      <th>label</th>\n",
       "      <th></th>\n",
       "      <th></th>\n",
       "      <th></th>\n",
       "      <th></th>\n",
       "      <th></th>\n",
       "      <th></th>\n",
       "      <th></th>\n",
       "    </tr>\n",
       "  </thead>\n",
       "  <tbody>\n",
       "    <tr>\n",
       "      <th>1</th>\n",
       "      <td>815</td>\n",
       "      <td>815</td>\n",
       "      <td>815</td>\n",
       "      <td>815</td>\n",
       "      <td>815</td>\n",
       "      <td>815</td>\n",
       "      <td>815</td>\n",
       "    </tr>\n",
       "  </tbody>\n",
       "</table>\n",
       "</div>"
      ],
      "text/plain": [
       "       record  age  sex   fs  length  dim  path\n",
       "label                                          \n",
       "1         815  815  815  815     815  815   815"
      ]
     },
     "execution_count": 30,
     "metadata": {},
     "output_type": "execute_result"
    }
   ],
   "source": [
    "sami_info.groupby('label').count()"
   ]
  }
 ],
 "metadata": {
  "kernelspec": {
   "display_name": "physio",
   "language": "python",
   "name": "python3"
  },
  "language_info": {
   "codemirror_mode": {
    "name": "ipython",
    "version": 3
   },
   "file_extension": ".py",
   "mimetype": "text/x-python",
   "name": "python",
   "nbconvert_exporter": "python",
   "pygments_lexer": "ipython3",
   "version": "3.9.21"
  }
 },
 "nbformat": 4,
 "nbformat_minor": 2
}
